{
 "cells": [
  {
   "cell_type": "markdown",
   "metadata": {},
   "source": [
    "## 准备数据"
   ]
  },
  {
   "cell_type": "code",
   "execution_count": 1,
   "metadata": {},
   "outputs": [
    {
     "name": "stderr",
     "output_type": "stream",
     "text": [
      "d:\\py3.10\\lib\\site-packages\\scipy\\__init__.py:169: UserWarning: A NumPy version >=1.18.5 and <1.26.0 is required for this version of SciPy (detected version 1.26.4\n",
      "  warnings.warn(f\"A NumPy version >={np_minversion} and <{np_maxversion}\"\n"
     ]
    }
   ],
   "source": [
    "import os\n",
    "import numpy as np\n",
    "import tensorflow as tf\n",
    "from tensorflow import keras\n",
    "from tensorflow.keras import layers, optimizers, datasets\n",
    "\n",
    "os.environ['TF_CPP_MIN_LOG_LEVEL'] = '2'  # or any {'0', '1', '2'}\n",
    "\n",
    "def mnist_dataset():\n",
    "    (x, y), (x_test, y_test) = datasets.mnist.load_data()\n",
    "    #normalize\n",
    "    x = x/255.0\n",
    "    x_test = x_test/255.0\n",
    "    \n",
    "    return (x, y), (x_test, y_test)"
   ]
  },
  {
   "cell_type": "code",
   "execution_count": 2,
   "metadata": {},
   "outputs": [
    {
     "name": "stdout",
     "output_type": "stream",
     "text": [
      "[(1, 'a'), (2, 'b'), (3, 'c'), (4, 'd')]\n"
     ]
    }
   ],
   "source": [
    "print(list(zip([1, 2, 3, 4], ['a', 'b', 'c', 'd'])))"
   ]
  },
  {
   "cell_type": "markdown",
   "metadata": {},
   "source": [
    "## 建立模型"
   ]
  },
  {
   "cell_type": "code",
   "execution_count": 6,
   "metadata": {},
   "outputs": [],
   "source": [
    "class myModel:\n",
    "    def __init__(self):\n",
    "        ####################\n",
    "        '''声明模型对应的参数'''\n",
    "        ####################\n",
    "        self.W1 = tf.Variable(tf.random.normal([784, 128]), name='weight1')\n",
    "        self.b1 = tf.Variable(tf.zeros([128]), name='bias1')\n",
    "        self.W2 = tf.Variable(tf.random.normal([128, 10]), name='weight2')\n",
    "        self.b2 = tf.Variable(tf.zeros([10]), name='bias2')\n",
    "        \n",
    "    def __call__(self, x):\n",
    "        ####################\n",
    "        '''实现模型函数体，返回未归一化的logits'''\n",
    "        ####################\n",
    "        x = tf.reshape(x, [-1, 784])  # Flatten input images\n",
    "        h1 = tf.nn.relu(tf.matmul(x, self.W1) + self.b1)\n",
    "        logits = tf.matmul(h1, self.W2) + self.b2\n",
    "        return logits\n",
    "        \n",
    "model = myModel()\n",
    "\n",
    "optimizer = optimizers.Adam()"
   ]
  },
  {
   "cell_type": "markdown",
   "metadata": {},
   "source": [
    "## 计算 loss"
   ]
  },
  {
   "cell_type": "code",
   "execution_count": 4,
   "metadata": {},
   "outputs": [],
   "source": [
    "@tf.function\n",
    "def compute_loss(logits, labels):\n",
    "    return tf.reduce_mean(\n",
    "        tf.nn.sparse_softmax_cross_entropy_with_logits(\n",
    "            logits=logits, labels=labels))\n",
    "\n",
    "@tf.function\n",
    "def compute_accuracy(logits, labels):\n",
    "    predictions = tf.argmax(logits, axis=1)\n",
    "    return tf.reduce_mean(tf.cast(tf.equal(predictions, labels), tf.float32))\n",
    "\n",
    "@tf.function\n",
    "def train_one_step(model, optimizer, x, y):\n",
    "    with tf.GradientTape() as tape:\n",
    "        logits = model(x)\n",
    "        loss = compute_loss(logits, y)\n",
    "\n",
    "    # compute gradient\n",
    "    trainable_vars = [model.W1, model.W2, model.b1, model.b2]\n",
    "    grads = tape.gradient(loss, trainable_vars)\n",
    "    for g, v in zip(grads, trainable_vars):\n",
    "        v.assign_sub(0.01*g)\n",
    "\n",
    "    accuracy = compute_accuracy(logits, y)\n",
    "\n",
    "    # loss and accuracy is scalar tensor\n",
    "    return loss, accuracy\n",
    "\n",
    "@tf.function\n",
    "def test(model, x, y):\n",
    "    logits = model(x)\n",
    "    loss = compute_loss(logits, y)\n",
    "    accuracy = compute_accuracy(logits, y)\n",
    "    return loss, accuracy"
   ]
  },
  {
   "cell_type": "markdown",
   "metadata": {},
   "source": [
    "## 实际训练"
   ]
  },
  {
   "cell_type": "code",
   "execution_count": 7,
   "metadata": {},
   "outputs": [
    {
     "name": "stdout",
     "output_type": "stream",
     "text": [
      "epoch 0 : loss 90.33859 ; accuracy 0.1147\n",
      "epoch 1 : loss 83.186035 ; accuracy 0.119166665\n",
      "epoch 2 : loss 78.2033 ; accuracy 0.121633336\n",
      "epoch 3 : loss 74.36517 ; accuracy 0.1244\n",
      "epoch 4 : loss 71.15582 ; accuracy 0.12631667\n",
      "epoch 5 : loss 68.334274 ; accuracy 0.12823333\n",
      "epoch 6 : loss 65.77736 ; accuracy 0.1304\n",
      "epoch 7 : loss 63.41686 ; accuracy 0.13421667\n",
      "epoch 8 : loss 61.218555 ; accuracy 0.13873333\n",
      "epoch 9 : loss 59.163197 ; accuracy 0.14408334\n",
      "epoch 10 : loss 57.241432 ; accuracy 0.1496\n",
      "epoch 11 : loss 55.44579 ; accuracy 0.15638334\n",
      "epoch 12 : loss 53.772118 ; accuracy 0.16275\n",
      "epoch 13 : loss 52.213863 ; accuracy 0.16946666\n",
      "epoch 14 : loss 50.762966 ; accuracy 0.17673333\n",
      "epoch 15 : loss 49.412918 ; accuracy 0.18393333\n",
      "epoch 16 : loss 48.15545 ; accuracy 0.19095\n",
      "epoch 17 : loss 46.984447 ; accuracy 0.19758333\n",
      "epoch 18 : loss 45.892025 ; accuracy 0.20475\n",
      "epoch 19 : loss 44.86976 ; accuracy 0.21111667\n",
      "epoch 20 : loss 43.91135 ; accuracy 0.21756667\n",
      "epoch 21 : loss 43.010384 ; accuracy 0.22393334\n",
      "epoch 22 : loss 42.160255 ; accuracy 0.23028333\n",
      "epoch 23 : loss 41.355408 ; accuracy 0.23651667\n",
      "epoch 24 : loss 40.590557 ; accuracy 0.24256666\n",
      "epoch 25 : loss 39.860916 ; accuracy 0.24798334\n",
      "epoch 26 : loss 39.161716 ; accuracy 0.25361666\n",
      "epoch 27 : loss 38.489548 ; accuracy 0.25875\n",
      "epoch 28 : loss 37.84225 ; accuracy 0.26368332\n",
      "epoch 29 : loss 37.21857 ; accuracy 0.26945\n",
      "epoch 30 : loss 36.617283 ; accuracy 0.27491668\n",
      "epoch 31 : loss 36.036816 ; accuracy 0.28018335\n",
      "epoch 32 : loss 35.475815 ; accuracy 0.28553334\n",
      "epoch 33 : loss 34.93308 ; accuracy 0.29095\n",
      "epoch 34 : loss 34.407665 ; accuracy 0.29586667\n",
      "epoch 35 : loss 33.898617 ; accuracy 0.30041668\n",
      "epoch 36 : loss 33.40504 ; accuracy 0.30563334\n",
      "epoch 37 : loss 32.92613 ; accuracy 0.31086665\n",
      "epoch 38 : loss 32.461174 ; accuracy 0.31565\n",
      "epoch 39 : loss 32.009586 ; accuracy 0.32001665\n",
      "epoch 40 : loss 31.570946 ; accuracy 0.32506666\n",
      "epoch 41 : loss 31.14499 ; accuracy 0.32936665\n",
      "epoch 42 : loss 30.731392 ; accuracy 0.33416668\n",
      "epoch 43 : loss 30.329634 ; accuracy 0.33868334\n",
      "epoch 44 : loss 29.93918 ; accuracy 0.34305\n",
      "epoch 45 : loss 29.559637 ; accuracy 0.3477\n",
      "epoch 46 : loss 29.190685 ; accuracy 0.35173333\n",
      "epoch 47 : loss 28.831833 ; accuracy 0.35568333\n",
      "epoch 48 : loss 28.48251 ; accuracy 0.35971665\n",
      "epoch 49 : loss 28.14224 ; accuracy 0.36405\n",
      "test loss 26.126396 ; accuracy 0.3801\n"
     ]
    }
   ],
   "source": [
    "train_data, test_data = mnist_dataset()\n",
    "for epoch in range(50):\n",
    "    loss, accuracy = train_one_step(model, optimizer, \n",
    "                                    tf.constant(train_data[0], dtype=tf.float32), \n",
    "                                    tf.constant(train_data[1], dtype=tf.int64))\n",
    "    print('epoch', epoch, ': loss', loss.numpy(), '; accuracy', accuracy.numpy())\n",
    "loss, accuracy = test(model, \n",
    "                      tf.constant(test_data[0], dtype=tf.float32), \n",
    "                      tf.constant(test_data[1], dtype=tf.int64))\n",
    "\n",
    "print('test loss', loss.numpy(), '; accuracy', accuracy.numpy())"
   ]
  }
 ],
 "metadata": {
  "kernelspec": {
   "display_name": "Python 3",
   "language": "python",
   "name": "python3"
  },
  "language_info": {
   "codemirror_mode": {
    "name": "ipython",
    "version": 3
   },
   "file_extension": ".py",
   "mimetype": "text/x-python",
   "name": "python",
   "nbconvert_exporter": "python",
   "pygments_lexer": "ipython3",
   "version": "3.10.10"
  }
 },
 "nbformat": 4,
 "nbformat_minor": 2
}
