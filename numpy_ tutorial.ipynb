{
 "cells": [
  {
   "cell_type": "markdown",
   "metadata": {},
   "source": [
    "#                                           numpy 练习题"
   ]
  },
  {
   "cell_type": "markdown",
   "metadata": {
    "collapsed": true
   },
   "source": [
    " "
   ]
  },
  {
   "cell_type": "markdown",
   "metadata": {},
   "source": [
    "### numpy 的array操作"
   ]
  },
  {
   "cell_type": "markdown",
   "metadata": {},
   "source": [
    "#### 1.导入numpy库"
   ]
  },
  {
   "cell_type": "code",
   "execution_count": 1,
   "metadata": {
    "collapsed": true
   },
   "outputs": [],
   "source": [
    "import numpy as np"
   ]
  },
  {
   "cell_type": "markdown",
   "metadata": {},
   "source": [
    "#### 2.建立一个一维数组 a 初始化为[4,5,6], (1)输出a 的类型（type）(2)输出a的各维度的大小（shape）(3)输出 a的第一个元素（值为4）"
   ]
  },
  {
   "cell_type": "code",
   "execution_count": 2,
   "metadata": {
    "collapsed": true
   },
   "outputs": [
    {
     "name": "stdout",
     "output_type": "stream",
     "text": [
      "<class 'numpy.ndarray'>\n",
      "(3,)\n",
      "4\n"
     ]
    }
   ],
   "source": [
    "lst=[4,5,6]\n",
    "a=np.array(lst)\n",
    "\n",
    "print(type(a))\n",
    "print(a.shape)\n",
    "print(a[0])"
   ]
  },
  {
   "cell_type": "markdown",
   "metadata": {},
   "source": [
    "#### 3.建立一个二维数组 b,初始化为 [ [4, 5, 6],[1, 2, 3]] (1)输出各维度的大小（shape）(2)输出 b(0,0)，b(0,1),b(1,1) 这三个元素（对应值分别为4,5,2）"
   ]
  },
  {
   "cell_type": "code",
   "execution_count": 4,
   "metadata": {
    "collapsed": true
   },
   "outputs": [
    {
     "name": "stdout",
     "output_type": "stream",
     "text": [
      "(2, 3)\n",
      "4 5 2\n"
     ]
    }
   ],
   "source": [
    "b=np.array([[4,5,6],[1,2,3]])\n",
    "\n",
    "print(b.shape)\n",
    "print(b[0,0],b[0,1],b[1,1])"
   ]
  },
  {
   "cell_type": "markdown",
   "metadata": {},
   "source": [
    "#### 4.  (1)建立一个全0矩阵 a, 大小为 3x3; 类型为整型（提示: dtype = int）(2)建立一个全1矩阵b,大小为4x5;  (3)建立一个单位矩阵c ,大小为4x4; (4)生成一个随机数矩阵d,大小为 3x2."
   ]
  },
  {
   "cell_type": "code",
   "execution_count": 5,
   "metadata": {
    "collapsed": true
   },
   "outputs": [
    {
     "name": "stdout",
     "output_type": "stream",
     "text": [
      "Matrix a (全0矩阵):\n",
      "[[0 0 0]\n",
      " [0 0 0]\n",
      " [0 0 0]]\n",
      "\n",
      "Matrix b (全1矩阵):\n",
      "[[1. 1. 1. 1. 1.]\n",
      " [1. 1. 1. 1. 1.]\n",
      " [1. 1. 1. 1. 1.]\n",
      " [1. 1. 1. 1. 1.]]\n",
      "\n",
      "Matrix c (单位矩阵):\n",
      "[[1. 0. 0. 0.]\n",
      " [0. 1. 0. 0.]\n",
      " [0. 0. 1. 0.]\n",
      " [0. 0. 0. 1.]]\n",
      "\n",
      "Matrix d (随机数矩阵):\n",
      "[[0.45582186 0.33938744]\n",
      " [0.46559669 0.31191363]\n",
      " [0.82058218 0.5279119 ]]\n"
     ]
    }
   ],
   "source": [
    "\n",
    "# (1) 建立一个全0矩阵a，大小为3x3，类型为整型\n",
    "a = np.zeros((3, 3), dtype=int)\n",
    "print(\"Matrix a (全0矩阵):\")\n",
    "print(a)\n",
    "print()\n",
    "\n",
    "# (2) 建立一个全1矩阵b，大小为4x5\n",
    "b = np.ones((4, 5))\n",
    "print(\"Matrix b (全1矩阵):\")\n",
    "print(b)\n",
    "print()\n",
    "\n",
    "# (3) 建立一个单位矩阵c，大小为4x4\n",
    "c = np.eye(4)\n",
    "print(\"Matrix c (单位矩阵):\")\n",
    "print(c)\n",
    "print()\n",
    "\n",
    "# (4) 生成一个随机数矩阵d，大小为3x2\n",
    "d = np.random.rand(3, 2)\n",
    "print(\"Matrix d (随机数矩阵):\")\n",
    "print(d)"
   ]
  },
  {
   "cell_type": "markdown",
   "metadata": {},
   "source": [
    "#### 5. 建立一个数组 a,(值为[[1, 2, 3, 4], [5, 6, 7, 8], [9, 10, 11, 12]] ) ,(1)打印a; (2)输出  下标为(2,3),(0,0) 这两个数组元素的值"
   ]
  },
  {
   "cell_type": "code",
   "execution_count": 6,
   "metadata": {
    "collapsed": true
   },
   "outputs": [
    {
     "name": "stdout",
     "output_type": "stream",
     "text": [
      "数组a:\n",
      "[[ 1  2  3  4]\n",
      " [ 5  6  7  8]\n",
      " [ 9 10 11 12]]\n",
      "\n",
      "下标为(2,3)的数组元素值: 12\n",
      "下标为(0,0)的数组元素值: 1\n"
     ]
    }
   ],
   "source": [
    "\n",
    "# 建立数组a\n",
    "a = np.array([[1, 2, 3, 4],\n",
    "              [5, 6, 7, 8],\n",
    "              [9, 10, 11, 12]])\n",
    "\n",
    "# (1) 打印数组a\n",
    "print(\"数组a:\")\n",
    "print(a)\n",
    "print()\n",
    "\n",
    "# (2) 输出下标为(2,3),(0,0)这两个数组元素的值\n",
    "print(\"下标为(2,3)的数组元素值:\", a[2, 3])\n",
    "print(\"下标为(0,0)的数组元素值:\", a[0, 0])"
   ]
  },
  {
   "cell_type": "markdown",
   "metadata": {},
   "source": [
    "#### 6.把上一题的 a数组的 0到1行 2到3列，放到b里面去，（此处不需要从新建立a,直接调用即可）(1),输出b;(2) 输出b 的（0,0）这个元素的值"
   ]
  },
  {
   "cell_type": "code",
   "execution_count": 7,
   "metadata": {
    "collapsed": true
   },
   "outputs": [
    {
     "name": "stdout",
     "output_type": "stream",
     "text": [
      "数组b:\n",
      "[[3 4]\n",
      " [7 8]]\n",
      "\n",
      "b的(0,0)元素的值: 3\n"
     ]
    }
   ],
   "source": [
    "# (1) 将a数组的0到1行、2到3列放入b数组中\n",
    "b = a[0:2, 2:4]\n",
    "\n",
    "# 输出b\n",
    "print(\"数组b:\")\n",
    "print(b)\n",
    "print()\n",
    "\n",
    "# (2) 输出b的(0,0)这个元素的值\n",
    "print(\"b的(0,0)元素的值:\", b[0, 0])\n"
   ]
  },
  {
   "cell_type": "markdown",
   "metadata": {},
   "source": [
    " #### 7. 把第5题中数组a的最后两行所有元素放到 c中，（提示： a[1:2, :]）(1)输出 c ; (2) 输出 c 中第一行的最后一个元素（提示，使用 -1                 表示最后一个元素）"
   ]
  },
  {
   "cell_type": "code",
   "execution_count": 8,
   "metadata": {
    "collapsed": true
   },
   "outputs": [
    {
     "name": "stdout",
     "output_type": "stream",
     "text": [
      "数组c:\n",
      "[[5 6 7 8]]\n",
      "\n",
      "c的(0,0)元素的值: 8\n"
     ]
    }
   ],
   "source": [
    "# (1) 将a数组的0到1行、2到3列放入b数组中\n",
    "c = a[1:2, :]\n",
    "\n",
    "# 输出c\n",
    "print(\"数组c:\")\n",
    "print(c)\n",
    "print()\n",
    "\n",
    "# (2) 输出c的第一行最后一个元素\n",
    "print(\"c的(0,0)元素的值:\", c[0, -1])\n"
   ]
  },
  {
   "cell_type": "markdown",
   "metadata": {},
   "source": [
    "#### 8.建立数组a,初始化a为[[1, 2], [3, 4], [5, 6]]，输出 （0,0）（1,1）（2,0）这三个元素（提示： 使用 print(a[[0, 1, 2], [0, 1, 0]]) ）"
   ]
  },
  {
   "cell_type": "code",
   "execution_count": 9,
   "metadata": {
    "collapsed": true
   },
   "outputs": [
    {
     "name": "stdout",
     "output_type": "stream",
     "text": [
      "[1 4 5]\n"
     ]
    }
   ],
   "source": [
    "\n",
    "# 建立数组a并初始化\n",
    "a = np.array([[1, 2], [3, 4], [5, 6]])\n",
    "\n",
    "# 输出 (0,0)、(1,1)、(2,0) 这三个元素\n",
    "print(a[[0, 1, 2], [0, 1, 0]])\n"
   ]
  },
  {
   "cell_type": "markdown",
   "metadata": {},
   "source": [
    "#### 9.建立矩阵a ,初始化为[[1, 2, 3], [4, 5, 6], [7, 8, 9], [10, 11, 12]]，输出(0,0),(1,2),(2,0),(3,1) (提示使用 b = np.array([0, 2, 0, 1])                     print(a[np.arange(4), b]))"
   ]
  },
  {
   "cell_type": "code",
   "execution_count": 10,
   "metadata": {
    "collapsed": true
   },
   "outputs": [
    {
     "name": "stdout",
     "output_type": "stream",
     "text": [
      "[ 1  6  7 11]\n"
     ]
    }
   ],
   "source": [
    "\n",
    "# 建立矩阵a并初始化\n",
    "a = np.array([[1, 2, 3],\n",
    "              [4, 5, 6],\n",
    "              [7, 8, 9],\n",
    "              [10, 11, 12]])\n",
    "\n",
    "# 定义索引数组b\n",
    "b = np.array([0, 2, 0, 1])\n",
    "\n",
    "# 输出(0,0),(1,2),(2,0),(3,1)对应的元素\n",
    "print(a[np.arange(4), b])\n"
   ]
  },
  {
   "cell_type": "markdown",
   "metadata": {},
   "source": [
    "#### 10.对9 中输出的那四个元素，每个都加上10，然后重新输出矩阵a.(提示： a[np.arange(4), b] += 10 ）"
   ]
  },
  {
   "cell_type": "code",
   "execution_count": 11,
   "metadata": {
    "collapsed": true
   },
   "outputs": [
    {
     "name": "stdout",
     "output_type": "stream",
     "text": [
      "加上10后的矩阵a:\n",
      "[[11  2  3]\n",
      " [ 4  5 16]\n",
      " [17  8  9]\n",
      " [10 21 12]]\n"
     ]
    }
   ],
   "source": [
    "\n",
    "# 建立矩阵a并初始化\n",
    "a = np.array([[1, 2, 3],\n",
    "              [4, 5, 6],\n",
    "              [7, 8, 9],\n",
    "              [10, 11, 12]])\n",
    "\n",
    "# 定义索引数组b\n",
    "b = np.array([0, 2, 0, 1])\n",
    "\n",
    "# 对指定元素加上10\n",
    "a[np.arange(4), b] += 10\n",
    "\n",
    "# 重新输出矩阵a\n",
    "print(\"加上10后的矩阵a:\")\n",
    "print(a)\n"
   ]
  },
  {
   "cell_type": "markdown",
   "metadata": {},
   "source": [
    "### array 的数学运算"
   ]
  },
  {
   "cell_type": "markdown",
   "metadata": {},
   "source": [
    "#### 11.  执行 x = np.array([1, 2])，然后输出 x 的数据类型"
   ]
  },
  {
   "cell_type": "code",
   "execution_count": 12,
   "metadata": {
    "collapsed": true
   },
   "outputs": [
    {
     "name": "stdout",
     "output_type": "stream",
     "text": [
      "x 的数据类型: int32\n"
     ]
    }
   ],
   "source": [
    "\n",
    "# 执行 x = np.array([1, 2])\n",
    "x = np.array([1, 2])\n",
    "\n",
    "# 输出 x 的数据类型\n",
    "print(\"x 的数据类型:\", x.dtype)\n"
   ]
  },
  {
   "cell_type": "markdown",
   "metadata": {},
   "source": [
    "#### 12.执行 x = np.array([1.0, 2.0]) ，然后输出 x 的数据类类型"
   ]
  },
  {
   "cell_type": "code",
   "execution_count": 13,
   "metadata": {
    "collapsed": true
   },
   "outputs": [
    {
     "name": "stdout",
     "output_type": "stream",
     "text": [
      "x 的数据类型: float64\n"
     ]
    }
   ],
   "source": [
    "# 执行 x = np.array([1.0, 2.0])\n",
    "x = np.array([1.0, 2.0])\n",
    "\n",
    "# 输出 x 的数据类型\n",
    "print(\"x 的数据类型:\", x.dtype)"
   ]
  },
  {
   "cell_type": "markdown",
   "metadata": {},
   "source": [
    "#### 13.执行 x = np.array([[1, 2], [3, 4]], dtype=np.float64) ，y = np.array([[5, 6], [7, 8]], dtype=np.float64)，然后输出 x+y ,和 np.add(x,y)"
   ]
  },
  {
   "cell_type": "code",
   "execution_count": 22,
   "metadata": {
    "collapsed": true
   },
   "outputs": [
    {
     "name": "stdout",
     "output_type": "stream",
     "text": [
      "x + y:\n",
      "[[ 6.  8.]\n",
      " [10. 12.]]\n",
      "\n",
      "np.add(x, y):\n",
      "[[ 6.  8.]\n",
      " [10. 12.]]\n"
     ]
    }
   ],
   "source": [
    "\n",
    "# 执行 x = np.array([[1, 2], [3, 4]], dtype=np.float64)，y = np.array([[5, 6], [7, 8]], dtype=np.float64)\n",
    "x = np.array([[1, 2], [3, 4]], dtype=np.float64)\n",
    "y = np.array([[5, 6], [7, 8]], dtype=np.float64)\n",
    "\n",
    "# 输出 x + y\n",
    "print(\"x + y:\")\n",
    "print(x + y)\n",
    "print()\n",
    "\n",
    "# 输出 np.add(x, y)\n",
    "print(\"np.add(x, y):\")\n",
    "print(np.add(x, y))\n"
   ]
  },
  {
   "cell_type": "markdown",
   "metadata": {},
   "source": [
    "#### 14. 利用 13题目中的x,y 输出 x-y 和 np.subtract(x,y)"
   ]
  },
  {
   "cell_type": "code",
   "execution_count": 15,
   "metadata": {
    "collapsed": true
   },
   "outputs": [
    {
     "name": "stdout",
     "output_type": "stream",
     "text": [
      "x - y:\n",
      "[[-4. -4.]\n",
      " [-4. -4.]]\n",
      "\n",
      "np.add(x, y):\n",
      "[[-4. -4.]\n",
      " [-4. -4.]]\n"
     ]
    }
   ],
   "source": [
    "# 输出 x + y\n",
    "print(\"x - y:\")\n",
    "print(x - y)\n",
    "print()\n",
    "\n",
    "# 输出 np.add(x, y)\n",
    "print(\"np.subtract(x, y):\")\n",
    "print(np.subtract(x, y))"
   ]
  },
  {
   "cell_type": "markdown",
   "metadata": {},
   "source": [
    "#### 15. 利用13题目中的x，y 输出 x*y ,和 np.multiply(x, y) 还有  np.dot(x,y),比较差异。然后自己换一个不是方阵的试试。"
   ]
  },
  {
   "cell_type": "code",
   "execution_count": 26,
   "metadata": {
    "collapsed": true
   },
   "outputs": [
    {
     "name": "stdout",
     "output_type": "stream",
     "text": [
      "x * y:\n",
      "[[ 5. 12.]\n",
      " [21. 32.]]\n",
      "\n",
      "np.multiply(x, y):\n",
      "[[ 5. 12.]\n",
      " [21. 32.]]\n",
      "\n",
      "np.dot(x, y):\n",
      "[[19. 22.]\n",
      " [43. 50.]]\n",
      "\n",
      "np.dot(x, y):\n",
      "[[ 58.  64.]\n",
      " [139. 154.]]\n"
     ]
    }
   ],
   "source": [
    "\n",
    "# 使用13题目中的 x 和 y\n",
    "x = np.array([[1, 2], [3, 4]], dtype=np.float64)\n",
    "y = np.array([[5, 6], [7, 8]], dtype=np.float64)\n",
    "\n",
    "# 输出 x * y\n",
    "print(\"x * y:\")\n",
    "print(x * y)\n",
    "print()\n",
    "\n",
    "# 输出 np.multiply(x, y)\n",
    "print(\"np.multiply(x, y):\")\n",
    "print(np.multiply(x, y))\n",
    "print()\n",
    "\n",
    "# 输出 np.dot(x, y)\n",
    "print(\"np.dot(x, y):\")\n",
    "print(np.dot(x, y))\n",
    "print()\n",
    "\n",
    "# 使用非方阵进行尝试\n",
    "x = np.array([[1, 2, 3], [4, 5, 6]], dtype=np.float64)\n",
    "y = np.array([[7, 8], [9, 10], [11, 12]], dtype=np.float64)\n",
    "\n",
    "# 输出 x * y,失败\n",
    "'''\n",
    "print(\"x * y:\")\n",
    "print(x * y)\n",
    "print()\n",
    "\n",
    "# 输出 np.multiply(x, y)\n",
    "print(\"np.multiply(x, y):\")\n",
    "print(np.multiply(x, y))\n",
    "print()\n",
    "'''\n",
    "# 输出 np.dot(x, y)\n",
    "print(\"np.dot(x, y):\")\n",
    "print(np.dot(x, y))\n"
   ]
  },
  {
   "cell_type": "markdown",
   "metadata": {},
   "source": [
    "#### 16. 利用13题目中的x,y,输出 x / y .(提示 ： 使用函数 np.divide())"
   ]
  },
  {
   "cell_type": "code",
   "execution_count": 27,
   "metadata": {},
   "outputs": [
    {
     "name": "stdout",
     "output_type": "stream",
     "text": [
      "x / y:\n",
      "[[0.2        0.33333333]\n",
      " [0.42857143 0.5       ]]\n"
     ]
    }
   ],
   "source": [
    "\n",
    "# 使用13题目中的 x 和 y\n",
    "x = np.array([[1, 2], [3, 4]], dtype=np.float64)\n",
    "y = np.array([[5, 6], [7, 8]], dtype=np.float64)\n",
    "\n",
    "# 输出 x / y\n",
    "print(\"x / y:\")\n",
    "print(np.divide(x, y))"
   ]
  },
  {
   "cell_type": "markdown",
   "metadata": {},
   "source": [
    "#### 17. 利用13题目中的x,输出 x的 开方。(提示： 使用函数 np.sqrt() )"
   ]
  },
  {
   "cell_type": "code",
   "execution_count": 28,
   "metadata": {
    "collapsed": true
   },
   "outputs": [
    {
     "name": "stdout",
     "output_type": "stream",
     "text": [
      "x的开方:\n",
      "[[1.         1.41421356]\n",
      " [1.73205081 2.        ]]\n"
     ]
    }
   ],
   "source": [
    "# 输出 x的开方\n",
    "print(\"x的开方:\")\n",
    "print(np.sqrt(x))"
   ]
  },
  {
   "cell_type": "markdown",
   "metadata": {},
   "source": [
    "#### 18.利用13题目中的x,y ,执行 print(x.dot(y)) 和 print(np.dot(x,y))"
   ]
  },
  {
   "cell_type": "code",
   "execution_count": 29,
   "metadata": {
    "collapsed": true
   },
   "outputs": [
    {
     "name": "stdout",
     "output_type": "stream",
     "text": [
      "x.dot(y):\n",
      "[[19. 22.]\n",
      " [43. 50.]]\n",
      "np.dot(x,y):\n",
      "[[19. 22.]\n",
      " [43. 50.]]\n"
     ]
    }
   ],
   "source": [
    "print('x.dot(y):')\n",
    "print(x.dot(y))\n",
    "\n",
    "print('np.dot(x,y):')\n",
    "print(np.dot(x,y))"
   ]
  },
  {
   "cell_type": "markdown",
   "metadata": {},
   "source": [
    "##### 19.利用13题目中的 x,进行求和。提示：输出三种求和 (1)print(np.sum(x)):   (2)print(np.sum(x，axis =0 ));   (3)print(np.sum(x,axis = 1))"
   ]
  },
  {
   "cell_type": "code",
   "execution_count": 30,
   "metadata": {
    "collapsed": true
   },
   "outputs": [
    {
     "name": "stdout",
     "output_type": "stream",
     "text": [
      "(1) 求所有元素的和:\n",
      "10.0\n",
      "\n",
      "(2) 沿着第一个轴（行）求和:\n",
      "[4. 6.]\n",
      "\n",
      "(3) 沿着第二个轴（列）求和:\n",
      "[3. 7.]\n"
     ]
    }
   ],
   "source": [
    "\n",
    "# 使用13题目中的 x\n",
    "x = np.array([[1, 2], [3, 4]], dtype=np.float64)\n",
    "\n",
    "# 输出三种求和\n",
    "print(\"(1) 求所有元素的和:\")\n",
    "print(np.sum(x))\n",
    "print()\n",
    "\n",
    "print(\"(2) 沿着第一个轴（行）求和:\")\n",
    "print(np.sum(x, axis=0))\n",
    "print()\n",
    "\n",
    "print(\"(3) 沿着第二个轴（列）求和:\")\n",
    "print(np.sum(x, axis=1))\n"
   ]
  },
  {
   "cell_type": "markdown",
   "metadata": {},
   "source": [
    "#### 20.利用13题目中的 x,进行求平均数（提示：输出三种平均数(1)print(np.mean(x)) (2)print(np.mean(x,axis = 0))(3) print(np.mean(x,axis =1))）\n"
   ]
  },
  {
   "cell_type": "code",
   "execution_count": 31,
   "metadata": {
    "collapsed": true
   },
   "outputs": [
    {
     "name": "stdout",
     "output_type": "stream",
     "text": [
      "(1) 计算所有元素的平均数:\n",
      "2.5\n",
      "\n",
      "(2) 计算沿着第一个轴（行）的平均数:\n",
      "[2. 3.]\n",
      "\n",
      "(3) 计算沿着第二个轴（列）的平均数:\n",
      "[1.5 3.5]\n"
     ]
    }
   ],
   "source": [
    "\n",
    "# 使用13题目中的 x\n",
    "x = np.array([[1, 2], [3, 4]], dtype=np.float64)\n",
    "\n",
    "# 输出三种平均数\n",
    "print(\"(1) 计算所有元素的平均数:\")\n",
    "print(np.mean(x))\n",
    "print()\n",
    "\n",
    "print(\"(2) 计算沿着第一个轴（行）的平均数:\")\n",
    "print(np.mean(x, axis=0))\n",
    "print()\n",
    "\n",
    "print(\"(3) 计算沿着第二个轴（列）的平均数:\")\n",
    "print(np.mean(x, axis=1))\n"
   ]
  },
  {
   "cell_type": "markdown",
   "metadata": {},
   "source": [
    "#### 21.利用13题目中的x，对x 进行矩阵转置，然后输出转置后的结果，（提示： x.T 表示对 x 的转置）"
   ]
  },
  {
   "cell_type": "code",
   "execution_count": 32,
   "metadata": {
    "collapsed": true
   },
   "outputs": [
    {
     "name": "stdout",
     "output_type": "stream",
     "text": [
      "转置后的结果:\n",
      "[[1. 3.]\n",
      " [2. 4.]]\n"
     ]
    }
   ],
   "source": [
    "\n",
    "# 使用13题目中的 x\n",
    "x = np.array([[1, 2], [3, 4]], dtype=np.float64)\n",
    "\n",
    "# 对 x 进行矩阵转置，并输出转置后的结果\n",
    "x_transpose = x.T\n",
    "print(\"转置后的结果:\")\n",
    "print(x_transpose)"
   ]
  },
  {
   "cell_type": "markdown",
   "metadata": {
    "collapsed": true
   },
   "source": [
    "#### 22.利用13题目中的x,求e的指数（提示： 函数 np.exp()）"
   ]
  },
  {
   "cell_type": "code",
   "execution_count": 33,
   "metadata": {
    "collapsed": true
   },
   "outputs": [
    {
     "name": "stdout",
     "output_type": "stream",
     "text": [
      "e的指数:\n",
      "[[ 2.71828183  7.3890561 ]\n",
      " [20.08553692 54.59815003]]\n"
     ]
    }
   ],
   "source": [
    "\n",
    "# 使用13题目中的 x\n",
    "x = np.array([[1, 2], [3, 4]], dtype=np.float64)\n",
    "\n",
    "# 求e的指数\n",
    "exp_x = np.exp(x)\n",
    "print(\"e的指数:\")\n",
    "print(exp_x)\n"
   ]
  },
  {
   "cell_type": "markdown",
   "metadata": {},
   "source": [
    "#### 23.利用13题目中的 x,求值最大的下标（提示(1)print(np.argmax(x)) ,(2) print(np.argmax(x, axis =0))(3)print(np.argmax(x),axis =1))"
   ]
  },
  {
   "cell_type": "code",
   "execution_count": 34,
   "metadata": {},
   "outputs": [
    {
     "name": "stdout",
     "output_type": "stream",
     "text": [
      "(1) 所有元素中值最大的下标:\n",
      "3\n",
      "\n",
      "(2) 沿着第一个轴（行）中值最大的下标:\n",
      "[1 1]\n",
      "\n",
      "(3) 沿着第二个轴（列）中值最大的下标:\n",
      "[1 1]\n"
     ]
    }
   ],
   "source": [
    "\n",
    "# 使用13题目中的 x\n",
    "x = np.array([[1, 2], [3, 4]], dtype=np.float64)\n",
    "\n",
    "# 求值最大的下标\n",
    "print(\"(1) 所有元素中值最大的下标:\")\n",
    "print(np.argmax(x))\n",
    "print()\n",
    "\n",
    "print(\"(2) 沿着第一个轴（行）中值最大的下标:\")\n",
    "print(np.argmax(x, axis=0))\n",
    "print()\n",
    "\n",
    "print(\"(3) 沿着第二个轴（列）中值最大的下标:\")\n",
    "print(np.argmax(x, axis=1))"
   ]
  },
  {
   "cell_type": "markdown",
   "metadata": {},
   "source": [
    "#### 24,画图，y=x*x 其中 x = np.arange(0, 100, 0.1) （提示这里用到  matplotlib.pyplot 库）"
   ]
  },
  {
   "cell_type": "code",
   "execution_count": 35,
   "metadata": {
    "collapsed": true
   },
   "outputs": [
    {
     "data": {
      "image/png": "[encoded data removed]",
      "text/plain": [
       "<Figure size 640x480 with 1 Axes>"
      ]
     },
     "metadata": {},
     "output_type": "display_data"
    }
   ],
   "source": [
    "\n",
    "import matplotlib.pyplot as plt\n",
    "\n",
    "# 生成 x 值\n",
    "x = np.arange(0, 100, 0.1)\n",
    "\n",
    "# 计算对应的 y 值\n",
    "y = x * x\n",
    "\n",
    "# 绘制图形\n",
    "plt.plot(x, y)\n",
    "plt.title('y = x^2')\n",
    "plt.xlabel('x')\n",
    "plt.ylabel('y')\n",
    "plt.grid(True)\n",
    "plt.show()\n"
   ]
  },
  {
   "cell_type": "markdown",
   "metadata": {},
   "source": [
    "#### 25.画图。画正弦函数和余弦函数， x = np.arange(0, 3 * np.pi, 0.1)(提示：这里用到 np.sin() np.cos() 函数和 matplotlib.pyplot 库)"
   ]
  },
  {
   "cell_type": "code",
   "execution_count": 36,
   "metadata": {
    "collapsed": true
   },
   "outputs": [
    {
     "data": {
      "image/png": "[encoded data removed]",
      "text/plain": [
       "<Figure size 640x480 with 1 Axes>"
      ]
     },
     "metadata": {},
     "output_type": "display_data"
    }
   ],
   "source": [
    "\n",
    "# 生成 x 值\n",
    "x = np.arange(0, 3 * np.pi, 0.1)\n",
    "\n",
    "# 计算正弦函数和余弦函数的值\n",
    "y_sin = np.sin(x)\n",
    "y_cos = np.cos(x)\n",
    "\n",
    "# 绘制正弦函数图形\n",
    "plt.plot(x, y_sin, label='sin(x)', color='blue')\n",
    "# 绘制余弦函数图形\n",
    "plt.plot(x, y_cos, label='cos(x)', color='red')\n",
    "\n",
    "# 设置图例\n",
    "plt.legend()\n",
    "\n",
    "# 设置标题和坐标轴标签\n",
    "plt.title('Sine and Cosine Functions')\n",
    "plt.xlabel('x')\n",
    "plt.ylabel('y')\n",
    "\n",
    "# 显示网格\n",
    "plt.grid(True)\n",
    "\n",
    "# 显示图形\n",
    "plt.show()\n"
   ]
  }
 ],
 "metadata": {
  "anaconda-cloud": {},
  "kernelspec": {
   "display_name": "Python 3",
   "language": "python",
   "name": "python3"
  },
  "language_info": {
   "codemirror_mode": {
    "name": "ipython",
    "version": 3
   },
   "file_extension": ".py",
   "mimetype": "text/x-python",
   "name": "python",
   "nbconvert_exporter": "python",
   "pygments_lexer": "ipython3",
   "version": "3.10.10"
  }
 },
 "nbformat": 4,
 "nbformat_minor": 1
}
